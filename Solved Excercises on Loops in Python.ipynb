{
 "cells": [
  {
   "cell_type": "code",
   "execution_count": null,
   "id": "d8ad96df-be4c-46f3-a77a-10693860e900",
   "metadata": {},
   "outputs": [],
   "source": [
    "#Print each character in a string: Write a for loop that takes a user-inputted string and prints each character on a new line.\n",
    "x=input(\"Enter a String :\")\n",
    "for y in x:\n",
    "    print (y)"
   ]
  },
  {
   "cell_type": "code",
   "execution_count": null,
   "id": "ff7625c9-c0f3-46a1-90f7-03f4bc90e3a9",
   "metadata": {},
   "outputs": [],
   "source": [
    "#. Print the first 10 natural numbers: Use a for loop to print numbers from 1 to 10.\n",
    "for x in range(1,11):\n",
    "    print(x)"
   ]
  },
  {
   "cell_type": "code",
   "execution_count": null,
   "id": "0c972074-65b2-4516-8c79-2990f1ffbfe0",
   "metadata": {},
   "outputs": [],
   "source": [
    "#. Sum of the first 20 natural numbers: Use a while loop to calculate and print the sum.\n",
    "x=1\n",
    "sum=0\n",
    "while x <= 20:\n",
    "    sum += x\n",
    "    x=x+1\n",
    "   \n",
    "print(sum)\n",
    "  "
   ]
  },
  {
   "cell_type": "code",
   "execution_count": null,
   "id": "a2ad53e2-0f1f-4119-9a23-e8576327ed7c",
   "metadata": {},
   "outputs": [],
   "source": [
    "#Count down from a given number: Use a while loop to count down from a given number to 0.\n",
    "x=int(input('Enter any number : '))\n",
    "\n",
    "while x >= 0:\n",
    "    print(x)\n",
    "    x-=4"
   ]
  },
  {
   "cell_type": "code",
   "execution_count": null,
   "id": "ebed88c1-1b62-431b-95a5-8a24b607d439",
   "metadata": {},
   "outputs": [],
   "source": [
    "#Even numbers in a range: Write a for loop to print all even numbers from 1 to 50.\n",
    "for x in range(0,51):\n",
    "   if x%2==0 :\n",
    "       print(x)\n"
   ]
  },
  {
   "cell_type": "code",
   "execution_count": null,
   "id": "9069796b-df08-461f-bea7-36264ad638fa",
   "metadata": {},
   "outputs": [],
   "source": [
    "#Print the multiplication table of a given number: Use a for loop to print the multiplication table of any number entered by the user (up to 10 times the number).\n",
    "x=int(input('Enter any Number : '))\n",
    "for y in range(1,11):\n",
    "    z=x*y\n",
    "    print(f'{x}*{y}={z}')"
   ]
  },
  {
   "cell_type": "code",
   "execution_count": null,
   "id": "c00b9957-cf7c-4da6-ae57-b1adf50eaa42",
   "metadata": {},
   "outputs": [],
   "source": [
    "#Find the factorial of a number: Use a while loop to calculate and print the factorial of a given positive integer.\n",
    "\n",
    "n=int(input('Enter any Number : '))\n",
    "f=1\n",
    "while n > 1:\n",
    "    f *= n\n",
    "    n -= 1\n",
    "print(f)"
   ]
  },
  {
   "cell_type": "code",
   "execution_count": null,
   "id": "15014da1-86ad-44ab-a291-fc33a18cbf01",
   "metadata": {},
   "outputs": [],
   "source": [
    "#. Sum of all odd numbers in a range: Use a for loop to find the sum of all odd numbers between two user-inputted numbers.\n",
    "\n",
    "x=int(input('Enter a Number : '))\n",
    "y=int(input('Enter a Number : '))\n",
    "sum=0\n",
    "\n",
    "for z in range(x,y):\n",
    "    \n",
    "    if z %2 != 0:\n",
    "        sum +=z\n",
    "        z -=1\n",
    "print(sum) \n",
    "        \n"
   ]
  },
  {
   "cell_type": "code",
   "execution_count": null,
   "id": "e323d788-053a-4ad7-be7d-26c7dde14e7c",
   "metadata": {},
   "outputs": [],
   "source": [
    "#. Display numbers divisible by 3 and 5: Use a for loop to display numbers between 1 and 100 that are divisible by both 3 and 5.\n",
    "for x in range(1,101):\n",
    "    if x%3 == 0 and x%5==0:\n",
    "        print(x) "
   ]
  },
  {
   "cell_type": "code",
   "execution_count": null,
   "id": "c62e39c8-5160-4139-add5-683fc60155bc",
   "metadata": {},
   "outputs": [],
   "source": [
    "# . Fibonacci sequence: Use a while loop to print the Fibonacci sequence up to the 10th term.\n",
    "\n",
    "a=0\n",
    "b=1\n",
    "count=0\n",
    "while count< 10:\n",
    "    print(a)\n",
    "    a=b\n",
    "    b=a+b\n",
    "    count +=1\n",
    "\n"
   ]
  },
  {
   "cell_type": "code",
   "execution_count": null,
   "id": "bbb2d8d5-558a-4d87-949c-26023c5930ac",
   "metadata": {},
   "outputs": [],
   "source": [
    "# Find the sum of digits in a number: Take a user-inputted number and use a while loop to find and print the sum of its digits.\n",
    "\n",
    "x=int(input('Enter a Number :'))\n",
    "\n",
    "sum=0\n",
    "while x\n"
   ]
  },
  {
   "cell_type": "code",
   "execution_count": null,
   "id": "5b12288c-a345-4002-9e79-d93d2d2952e3",
   "metadata": {},
   "outputs": [],
   "source": [
    "#Guess the secret number game: Use a while loop to allow the user multiple chances to guess a predefined secret number, providing feedback if the guess is too high or too low.\n",
    "\n",
    "\n",
    "s_n=78\n",
    "x=0\n",
    "while s_n != x:\n",
    "    x=int(input('Enter a number :' ))\n",
    "    if x == s_n :\n",
    "        print('WOW')\n",
    "    elif x >= s_n:\n",
    "        print('Too High')\n",
    "    else:\n",
    "        print('Too Low')\n",
    "        \n",
    "    "
   ]
  },
  {
   "cell_type": "code",
   "execution_count": null,
   "id": "184149af-96d0-42fb-bfec-607823e38870",
   "metadata": {},
   "outputs": [],
   "source": [
    "#. Calculate compound interest for each year: Using a for loop, calculate and print the compound interest for each year up to 5 years for a given principal, rate, and time period.\n",
    "\n",
    "num = int(input(\"Enter a number: \"))\n",
    "sum = 0\n",
    "while num > 0:\n",
    "    digit = num % 10\n",
    "    sum += digit \n",
    "    num //= 10\n",
    "print(f\"The sum of the digits is: {sum}\")\n"
   ]
  },
  {
   "cell_type": "code",
   "execution_count": null,
   "id": "0afdc3fe-d965-4098-ad04-51ebac2501f1",
   "metadata": {},
   "outputs": [],
   "source": [
    "# Calculate compound interest for each year: Using a for loop, calculate and print the compound interest for each year up to 5 years for a given principal, rate, and time period.\n",
    "\n",
    "principal = float(input(\"Enter the principal amount: \"))\n",
    "rate = float(input(\"Enter the annual interest rate (in %): \")) / 100\n",
    "time = 5 \n",
    "for yr in range(1, time+ 1):\n",
    "    amount = principal * (1 + rate) ** yr\n",
    "    ci = amount - principal\n",
    "    print(f\"Year {yr}: Compound Interest = {ci:.2f}\")"
   ]
  },
  {
   "cell_type": "code",
   "execution_count": null,
   "id": "4e191a51-e70d-4414-bdcf-7c1cddfa4041",
   "metadata": {},
   "outputs": [],
   "source": [
    "# Reverse a string: Write a for loop to reverse a user-inputted string.\n",
    "\n",
    "string1 = input(\"Enter a string: \")\n",
    "string2 = \"\"\n",
    "for char in string1:\n",
    "    string2 = char + string2\n",
    "print(f\"The reversed string is: {string2}\")"
   ]
  },
  {
   "cell_type": "code",
   "execution_count": null,
   "id": "9589b477-7ffe-4c0b-bc23-d7f9fd8edf9e",
   "metadata": {},
   "outputs": [],
   "source": [
    "# Find the minimum and maximum in a list: Take a list of numbers from the user and use a for loop to find the minimum and maximum values in the list.\n",
    "\n",
    "x = input(\"Enter a list of numbers, separated by spaces: \")\n",
    "numbers = [int(num) for num in x.split()]\n",
    "min = numbers[0]\n",
    "max = numbers[0]\n",
    "for num in numbers:\n",
    "    if num < min:\n",
    "        min = num\n",
    "    if num > max:\n",
    "        max = num\n",
    "print(f\"The minimum value is: {min}\")\n",
    "print(f\"The maximum value is: {max}\")"
   ]
  },
  {
   "cell_type": "code",
   "execution_count": null,
   "id": "9f43ad16-8048-4512-bd43-7dc81e82ca17",
   "metadata": {},
   "outputs": [],
   "source": [
    "# Identify prime numbers in a range: Use a for loop to identify and print all prime numbers between 10 and 50.\n",
    "\n",
    "for num in range(10, 51):\n",
    "    prime = True \n",
    "    for i in range(2, num):\n",
    "        if num % i == 0:\n",
    "            prime = False \n",
    "            break\n",
    "    if prime and num > 1:\n",
    "        print(num)"
   ]
  },
  {
   "cell_type": "code",
   "execution_count": null,
   "id": "f5a4d0c6-5240-4836-932c-1e32c30bacde",
   "metadata": {},
   "outputs": [],
   "source": [
    "# Check if a number is a palindrome: Write a while loop to check if a given integer is a palindrome (the same forwards and backwards).\n",
    "num = int(input(\"Enter a number to check if it's a palindrome: \"))\n",
    "num_str = str(num)\n",
    "if num_str == num_str[::-1]:\n",
    "    print(f\"{num} is a palindrome!\")\n",
    "else:\n",
    "    print(f\"{num} is not a palindrome.\")"
   ]
  },
  {
   "cell_type": "code",
   "execution_count": null,
   "id": "9b7ae1f7-01af-4393-bdbd-de7589fafdaf",
   "metadata": {},
   "outputs": [],
   "source": [
    "# # Define the range\n",
    "start = 10\n",
    "end = 50\n",
    "\n",
    "# Loop through each number in the range\n",
    "for num in range(start, end + 1):\n",
    "    # Prime numbers are greater than 1\n",
    "    if num > 1:\n",
    "        # Check if number is prime\n",
    "        for i in range(2, int(num ** 0.5) + 1):\n",
    "            if (num % i) == 0:\n",
    "                break\n",
    "        else:\n",
    "            # Print the prime number\n",
    "            print(num)\n",
    "start = 10\n",
    "end = 50\n",
    "for num in range(start, end + 1):\n",
    "    if num > 1:\n",
    "        for i in range(2, int(num ** 0.5) + 1):\n",
    "            if (num % i) == 0:\n",
    "                break\n",
    "        else:\n",
    "            print(num)"
   ]
  }
 ],
 "metadata": {
  "kernelspec": {
   "display_name": "Python 3 (ipykernel)",
   "language": "python",
   "name": "python3"
  },
  "language_info": {
   "codemirror_mode": {
    "name": "ipython",
    "version": 3
   },
   "file_extension": ".py",
   "mimetype": "text/x-python",
   "name": "python",
   "nbconvert_exporter": "python",
   "pygments_lexer": "ipython3",
   "version": "3.12.4"
  }
 },
 "nbformat": 4,
 "nbformat_minor": 5
}
